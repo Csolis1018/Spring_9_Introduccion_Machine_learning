{
 "cells": [
  {
   "cell_type": "markdown",
   "metadata": {},
   "source": [
    "¡Hola, Christian!\n",
    "\n",
    "Mi nombre es Tonatiuh Cruz. Me complace revisar tu proyecto hoy.\n",
    "\n",
    "Al identificar cualquier error inicialmente, simplemente los destacaré. Te animo a localizar y abordar los problemas de forma independiente como parte de tu preparación para un rol como data-scientist. En un entorno profesional, tu líder de equipo seguiría un enfoque similar. Si encuentras la tarea desafiante, proporcionaré una pista más específica en la próxima iteración.\n",
    "\n",
    "Encontrarás mis comentarios a continuación - **por favor no los muevas, modifiques o elimines**.\n",
    "\n",
    "Puedes encontrar mis comentarios en cajas verdes, amarillas o rojas como esta:\n",
    "\n",
    "<div class=\"alert alert-block alert-success\">\n",
    "<b>Comentario del revisor</b> <a class=\"tocSkip\"></a>\n",
    "\n",
    "Éxito. Todo está hecho correctamente.\n",
    "</div>\n",
    "\n",
    "<div class=\"alert alert-block alert-warning\">\n",
    "<b>Comentario del revisor</b> <a class=\"tocSkip\"></a>\n",
    "\n",
    "Observaciones. Algunas recomendaciones.\n",
    "</div>\n",
    "\n",
    "<div class=\"alert alert-block alert-danger\">\n",
    "<b>Comentario del revisor</b> <a class=\"tocSkip\"></a>\n",
    "\n",
    "Necesita corrección. El bloque requiere algunas correcciones. El trabajo no puede ser aceptado con comentarios en rojo.\n",
    "</div>\n",
    "\n",
    "Puedes responderme utilizando esto:\n",
    "\n",
    "<div class=\"alert alert-block alert-info\">\n"
   ]
  },
  {
   "cell_type": "markdown",
   "metadata": {},
   "source": [
    "<div class=\"alert alert-block alert-success\">\n",
    "<b>Review General iteración 1) </b> <a class=\"tocSkip\"></a>\n",
    "    \n",
    "Christian, has hecho un excelente trabajo con el desarrollo del proyecto, cada vez más cercas de convertirte en un cientifico de datos. Realizaste la carga de bases, su análisis inicial,el desarrollo de los modelos, el calculo del RMSE además lo replicate para todas la regiones y concluiste con el análisis de ganancias. Solamente te dejo algunos comentarios para complementar el análisis.\n",
    "\n",
    "Sigue con el excelente trabajo!"
   ]
  },
  {
   "cell_type": "code",
   "execution_count": 1,
   "metadata": {},
   "outputs": [],
   "source": [
    "from dataclasses import dataclass\n",
    "from typing import Dict, Tuple, List\n",
    "import numpy as np\n",
    "import pandas as pd\n",
    "from sklearn.linear_model import LinearRegression\n",
    "from sklearn.model_selection import train_test_split\n",
    "from sklearn.metrics import mean_squared_error\n",
    "from sklearn.preprocessing import StandardScaler"
   ]
  },
  {
   "cell_type": "code",
   "execution_count": 2,
   "metadata": {},
   "outputs": [],
   "source": [
    "df_0 = pd.read_csv('/datasets/geo_data_0.csv')\n",
    "df_1 = pd.read_csv('/datasets/geo_data_1.csv')\n",
    "df_2 = pd.read_csv('/datasets/geo_data_2.csv')"
   ]
  },
  {
   "cell_type": "code",
   "execution_count": 3,
   "metadata": {},
   "outputs": [
    {
     "data": {
      "text/html": [
       "<div>\n",
       "<style scoped>\n",
       "    .dataframe tbody tr th:only-of-type {\n",
       "        vertical-align: middle;\n",
       "    }\n",
       "\n",
       "    .dataframe tbody tr th {\n",
       "        vertical-align: top;\n",
       "    }\n",
       "\n",
       "    .dataframe thead th {\n",
       "        text-align: right;\n",
       "    }\n",
       "</style>\n",
       "<table border=\"1\" class=\"dataframe\">\n",
       "  <thead>\n",
       "    <tr style=\"text-align: right;\">\n",
       "      <th></th>\n",
       "      <th>id</th>\n",
       "      <th>f0</th>\n",
       "      <th>f1</th>\n",
       "      <th>f2</th>\n",
       "      <th>product</th>\n",
       "    </tr>\n",
       "  </thead>\n",
       "  <tbody>\n",
       "    <tr>\n",
       "      <th>0</th>\n",
       "      <td>txEyH</td>\n",
       "      <td>0.705745</td>\n",
       "      <td>-0.497823</td>\n",
       "      <td>1.221170</td>\n",
       "      <td>105.280062</td>\n",
       "    </tr>\n",
       "    <tr>\n",
       "      <th>1</th>\n",
       "      <td>2acmU</td>\n",
       "      <td>1.334711</td>\n",
       "      <td>-0.340164</td>\n",
       "      <td>4.365080</td>\n",
       "      <td>73.037750</td>\n",
       "    </tr>\n",
       "    <tr>\n",
       "      <th>2</th>\n",
       "      <td>409Wp</td>\n",
       "      <td>1.022732</td>\n",
       "      <td>0.151990</td>\n",
       "      <td>1.419926</td>\n",
       "      <td>85.265647</td>\n",
       "    </tr>\n",
       "    <tr>\n",
       "      <th>3</th>\n",
       "      <td>iJLyR</td>\n",
       "      <td>-0.032172</td>\n",
       "      <td>0.139033</td>\n",
       "      <td>2.978566</td>\n",
       "      <td>168.620776</td>\n",
       "    </tr>\n",
       "    <tr>\n",
       "      <th>4</th>\n",
       "      <td>Xdl7t</td>\n",
       "      <td>1.988431</td>\n",
       "      <td>0.155413</td>\n",
       "      <td>4.751769</td>\n",
       "      <td>154.036647</td>\n",
       "    </tr>\n",
       "  </tbody>\n",
       "</table>\n",
       "</div>"
      ],
      "text/plain": [
       "      id        f0        f1        f2     product\n",
       "0  txEyH  0.705745 -0.497823  1.221170  105.280062\n",
       "1  2acmU  1.334711 -0.340164  4.365080   73.037750\n",
       "2  409Wp  1.022732  0.151990  1.419926   85.265647\n",
       "3  iJLyR -0.032172  0.139033  2.978566  168.620776\n",
       "4  Xdl7t  1.988431  0.155413  4.751769  154.036647"
      ]
     },
     "execution_count": 3,
     "metadata": {},
     "output_type": "execute_result"
    }
   ],
   "source": [
    "df_0.head(5)"
   ]
  },
  {
   "cell_type": "code",
   "execution_count": 4,
   "metadata": {},
   "outputs": [
    {
     "data": {
      "text/html": [
       "<div>\n",
       "<style scoped>\n",
       "    .dataframe tbody tr th:only-of-type {\n",
       "        vertical-align: middle;\n",
       "    }\n",
       "\n",
       "    .dataframe tbody tr th {\n",
       "        vertical-align: top;\n",
       "    }\n",
       "\n",
       "    .dataframe thead th {\n",
       "        text-align: right;\n",
       "    }\n",
       "</style>\n",
       "<table border=\"1\" class=\"dataframe\">\n",
       "  <thead>\n",
       "    <tr style=\"text-align: right;\">\n",
       "      <th></th>\n",
       "      <th>id</th>\n",
       "      <th>f0</th>\n",
       "      <th>f1</th>\n",
       "      <th>f2</th>\n",
       "      <th>product</th>\n",
       "    </tr>\n",
       "  </thead>\n",
       "  <tbody>\n",
       "    <tr>\n",
       "      <th>0</th>\n",
       "      <td>kBEdx</td>\n",
       "      <td>-15.001348</td>\n",
       "      <td>-8.276000</td>\n",
       "      <td>-0.005876</td>\n",
       "      <td>3.179103</td>\n",
       "    </tr>\n",
       "    <tr>\n",
       "      <th>1</th>\n",
       "      <td>62mP7</td>\n",
       "      <td>14.272088</td>\n",
       "      <td>-3.475083</td>\n",
       "      <td>0.999183</td>\n",
       "      <td>26.953261</td>\n",
       "    </tr>\n",
       "    <tr>\n",
       "      <th>2</th>\n",
       "      <td>vyE1P</td>\n",
       "      <td>6.263187</td>\n",
       "      <td>-5.948386</td>\n",
       "      <td>5.001160</td>\n",
       "      <td>134.766305</td>\n",
       "    </tr>\n",
       "    <tr>\n",
       "      <th>3</th>\n",
       "      <td>KcrkZ</td>\n",
       "      <td>-13.081196</td>\n",
       "      <td>-11.506057</td>\n",
       "      <td>4.999415</td>\n",
       "      <td>137.945408</td>\n",
       "    </tr>\n",
       "    <tr>\n",
       "      <th>4</th>\n",
       "      <td>AHL4O</td>\n",
       "      <td>12.702195</td>\n",
       "      <td>-8.147433</td>\n",
       "      <td>5.004363</td>\n",
       "      <td>134.766305</td>\n",
       "    </tr>\n",
       "  </tbody>\n",
       "</table>\n",
       "</div>"
      ],
      "text/plain": [
       "      id         f0         f1        f2     product\n",
       "0  kBEdx -15.001348  -8.276000 -0.005876    3.179103\n",
       "1  62mP7  14.272088  -3.475083  0.999183   26.953261\n",
       "2  vyE1P   6.263187  -5.948386  5.001160  134.766305\n",
       "3  KcrkZ -13.081196 -11.506057  4.999415  137.945408\n",
       "4  AHL4O  12.702195  -8.147433  5.004363  134.766305"
      ]
     },
     "execution_count": 4,
     "metadata": {},
     "output_type": "execute_result"
    }
   ],
   "source": [
    "df_1.head(5)"
   ]
  },
  {
   "cell_type": "code",
   "execution_count": 5,
   "metadata": {},
   "outputs": [
    {
     "data": {
      "text/html": [
       "<div>\n",
       "<style scoped>\n",
       "    .dataframe tbody tr th:only-of-type {\n",
       "        vertical-align: middle;\n",
       "    }\n",
       "\n",
       "    .dataframe tbody tr th {\n",
       "        vertical-align: top;\n",
       "    }\n",
       "\n",
       "    .dataframe thead th {\n",
       "        text-align: right;\n",
       "    }\n",
       "</style>\n",
       "<table border=\"1\" class=\"dataframe\">\n",
       "  <thead>\n",
       "    <tr style=\"text-align: right;\">\n",
       "      <th></th>\n",
       "      <th>id</th>\n",
       "      <th>f0</th>\n",
       "      <th>f1</th>\n",
       "      <th>f2</th>\n",
       "      <th>product</th>\n",
       "    </tr>\n",
       "  </thead>\n",
       "  <tbody>\n",
       "    <tr>\n",
       "      <th>0</th>\n",
       "      <td>fwXo0</td>\n",
       "      <td>-1.146987</td>\n",
       "      <td>0.963328</td>\n",
       "      <td>-0.828965</td>\n",
       "      <td>27.758673</td>\n",
       "    </tr>\n",
       "    <tr>\n",
       "      <th>1</th>\n",
       "      <td>WJtFt</td>\n",
       "      <td>0.262778</td>\n",
       "      <td>0.269839</td>\n",
       "      <td>-2.530187</td>\n",
       "      <td>56.069697</td>\n",
       "    </tr>\n",
       "    <tr>\n",
       "      <th>2</th>\n",
       "      <td>ovLUW</td>\n",
       "      <td>0.194587</td>\n",
       "      <td>0.289035</td>\n",
       "      <td>-5.586433</td>\n",
       "      <td>62.871910</td>\n",
       "    </tr>\n",
       "    <tr>\n",
       "      <th>3</th>\n",
       "      <td>q6cA6</td>\n",
       "      <td>2.236060</td>\n",
       "      <td>-0.553760</td>\n",
       "      <td>0.930038</td>\n",
       "      <td>114.572842</td>\n",
       "    </tr>\n",
       "    <tr>\n",
       "      <th>4</th>\n",
       "      <td>WPMUX</td>\n",
       "      <td>-0.515993</td>\n",
       "      <td>1.716266</td>\n",
       "      <td>5.899011</td>\n",
       "      <td>149.600746</td>\n",
       "    </tr>\n",
       "  </tbody>\n",
       "</table>\n",
       "</div>"
      ],
      "text/plain": [
       "      id        f0        f1        f2     product\n",
       "0  fwXo0 -1.146987  0.963328 -0.828965   27.758673\n",
       "1  WJtFt  0.262778  0.269839 -2.530187   56.069697\n",
       "2  ovLUW  0.194587  0.289035 -5.586433   62.871910\n",
       "3  q6cA6  2.236060 -0.553760  0.930038  114.572842\n",
       "4  WPMUX -0.515993  1.716266  5.899011  149.600746"
      ]
     },
     "execution_count": 5,
     "metadata": {},
     "output_type": "execute_result"
    }
   ],
   "source": [
    "df_2.head(5)"
   ]
  },
  {
   "cell_type": "code",
   "execution_count": 6,
   "metadata": {},
   "outputs": [],
   "source": [
    "features_0 = df_0.drop(['id', 'product'], axis=1)\n",
    "target_0 = df_0['product']\n",
    "\n",
    "features_1 = df_1.drop(['id', 'product'], axis=1)\n",
    "target_1 = df_1['product']\n",
    "\n",
    "features_2 = df_2.drop(['id', 'product'], axis=1)\n",
    "target_2 = df_2['product']"
   ]
  },
  {
   "cell_type": "markdown",
   "metadata": {},
   "source": [
    "<div class=\"alert alert-block alert-warning\">\n",
    "<b>Comentario del revisor</b> <a class=\"tocSkip\"></a>\n",
    "\n",
    "Excelente trabajo con la carga de la información y su exploración inicial.  Solamente te recomiendo un análisis perfecto de los registros duplicados que como aprendiste en cursos pasados sirve para asegurar que nuestros resultados no estarán sesgados"
   ]
  },
  {
   "cell_type": "code",
   "execution_count": 7,
   "metadata": {},
   "outputs": [
    {
     "name": "stdout",
     "output_type": "stream",
     "text": [
      "Región 0 - RMSE: 37.75660035026169\n",
      "Media de predicciones: 92.39879990657768\n",
      "Media real: 92.32595637084387\n"
     ]
    }
   ],
   "source": [
    "X_train, X_valid, y_train, y_valid = train_test_split(\n",
    "    features_0, target_0, test_size=0.25, random_state=42\n",
    ")\n",
    "\n",
    "model = LinearRegression()\n",
    "model.fit(X_train, y_train)\n",
    "\n",
    "preds = model.predict(X_valid)\n",
    "\n",
    "mse = mean_squared_error(y_valid, preds)\n",
    "rmse = mse ** 0.5\n",
    "\n",
    "print(\"Región 0 - RMSE:\", rmse)\n",
    "print(\"Media de predicciones:\", preds.mean())\n",
    "print(\"Media real:\", y_valid.mean())"
   ]
  },
  {
   "cell_type": "code",
   "execution_count": 16,
   "metadata": {},
   "outputs": [],
   "source": [
    "def evaluar_region(features, target, region_name):\n",
    "    # Dividir en train/valid\n",
    "    X_train, X_valid, y_train, y_valid = train_test_split(\n",
    "        features, target, test_size=0.25, random_state=42\n",
    "    )\n",
    "    \n",
    "    # Escalar datos\n",
    "    scaler = StandardScaler()\n",
    "    X_train_scaled = scaler.fit_transform(X_train)\n",
    "    X_valid_scaled = scaler.transform(X_valid)\n",
    "    \n",
    "    # Entrenar modelo\n",
    "    model = LinearRegression()\n",
    "    model.fit(X_train_scaled, y_train)\n",
    "    \n",
    "    # Predicciones\n",
    "    preds = model.predict(X_valid_scaled)\n",
    "    \n",
    "    # Métricas\n",
    "    rmse = mean_squared_error(y_valid, preds) ** 0.5\n",
    "    r2 = model.score(X_valid_scaled, y_valid)\n",
    "    \n",
    "    print(f\"Región {region_name} - RMSE: {rmse:.2f}\")\n",
    "    print(f\"R²: {r2:.2f}\")\n",
    "    print(f\"Media de predicciones: {preds.mean():.2f}\")\n",
    "    print(f\"Media real: {y_valid.mean():.2f}\")\n",
    "    print(\"-\" * 50)\n",
    "    \n",
    "    return preds, y_valid"
   ]
  },
  {
   "cell_type": "code",
   "execution_count": 17,
   "metadata": {},
   "outputs": [],
   "source": [
    "features_0 = df_0.drop(['id', 'product'], axis=1)\n",
    "target_0 = df_0['product']\n",
    "\n",
    "features_1 = df_1.drop(['id', 'product'], axis=1)\n",
    "target_1 = df_1['product']\n",
    "\n",
    "features_2 = df_2.drop(['id', 'product'], axis=1)\n",
    "target_2 = df_2['product']"
   ]
  },
  {
   "cell_type": "code",
   "execution_count": 18,
   "metadata": {},
   "outputs": [
    {
     "name": "stdout",
     "output_type": "stream",
     "text": [
      "Región 0 - RMSE: 37.76\n",
      "R²: 0.27\n",
      "Media de predicciones: 92.40\n",
      "Media real: 92.33\n",
      "--------------------------------------------------\n",
      "Región 1 - RMSE: 0.89\n",
      "R²: 1.00\n",
      "Media de predicciones: 68.71\n",
      "Media real: 68.73\n",
      "--------------------------------------------------\n",
      "Región 2 - RMSE: 40.15\n",
      "R²: 0.20\n",
      "Media de predicciones: 94.77\n",
      "Media real: 95.15\n",
      "--------------------------------------------------\n"
     ]
    }
   ],
   "source": [
    "preds_0, y_valid_0 = evaluar_region(features_0, target_0, \"0\")\n",
    "preds_1, y_valid_1 = evaluar_region(features_1, target_1, \"1\")\n",
    "preds_2, y_valid_2 = evaluar_region(features_2, target_2, \"2\")"
   ]
  },
  {
   "cell_type": "markdown",
   "metadata": {},
   "source": [
    "<div class=\"alert alert-block alert-danger\">\n",
    "<b>Comentario del revisor</b> <a class=\"tocSkip\"></a>\n",
    "\n",
    "Christian, implementaste el modelo de regresión lineal de forma excelente para los 3 conjuntos de datos! En este punto ya puedes obervar cuál es el modelo con el mayor $R^2$ y menor RMSE. \n",
    "    \n",
    "Solamente recuerda complementarlo con el escalado de los datos. El escalado es muy útil para mejorar el rendimiento del modelo al asegurar que todas las características tienen el mismo rango.     \n",
    "</div>"
   ]
  },
  {
   "cell_type": "markdown",
   "metadata": {},
   "source": [
    "<div class=\"alert alert-block alert-success\">\n",
    "<b>Comentario del revisor</b> <a class=\"tocSkip\"></a>\n",
    "\n",
    "Gran trabajo con el ajuste!"
   ]
  },
  {
   "cell_type": "code",
   "execution_count": 19,
   "metadata": {},
   "outputs": [],
   "source": [
    "PRICE_PER_UNIT = 4500\n",
    "BUDGET = 100_000_000\n",
    "TOP_WELLS = 200\n",
    "\n",
    "def calcular_beneficio_top(preds, y_valid):\n",
    "    # Obtener índices de los 200 mejores pozos según predicción\n",
    "    idx_top = np.argsort(preds)[::-1][:TOP_WELLS]\n",
    "    y_top = y_valid.iloc[idx_top]  # valores reales de estos pozos\n",
    "    \n",
    "    # Beneficio\n",
    "    beneficio = np.sum(y_top) * PRICE_PER_UNIT - BUDGET\n",
    "    return beneficio, y_top"
   ]
  },
  {
   "cell_type": "code",
   "execution_count": 21,
   "metadata": {},
   "outputs": [
    {
     "name": "stdout",
     "output_type": "stream",
     "text": [
      "Región 0 - Beneficio top 200: $33,591,411\n",
      "Región 1 - Beneficio top 200: $24,150,867\n",
      "Región 2 - Beneficio top 200: $25,985,718\n"
     ]
    }
   ],
   "source": [
    "# Región 0\n",
    "benef_0, y_top_0 = calcular_beneficio_top(preds_0, y_valid_0)\n",
    "print(f\"Región 0 - Beneficio top 200: ${benef_0:,.0f}\")\n",
    "\n",
    "# Región 1\n",
    "benef_1, y_top_1 = calcular_beneficio_top(preds_1, y_valid_1)\n",
    "print(f\"Región 1 - Beneficio top 200: ${benef_1:,.0f}\")\n",
    "\n",
    "# Región 2\n",
    "benef_2, y_top_2 = calcular_beneficio_top(preds_2, y_valid_2)\n",
    "print(f\"Región 2 - Beneficio top 200: ${benef_2:,.0f}\")\n"
   ]
  },
  {
   "cell_type": "code",
   "execution_count": 22,
   "metadata": {},
   "outputs": [],
   "source": [
    "N_BOOT = 1000\n",
    "POINTS_STUDIED = 500  # como indica el proyecto\n",
    "\n",
    "def bootstrap_beneficio(preds_valid, y_valid, n_boot=N_BOOT, sample_size=POINTS_STUDIED, top_wells=TOP_WELLS):\n",
    "    rng = np.random.default_rng(42)\n",
    "    profits = []\n",
    "    \n",
    "    # Empaquetamos pares predicción/valor real\n",
    "    pairs = np.column_stack([preds_valid, y_valid.values])\n",
    "    \n",
    "    for _ in range(n_boot):\n",
    "        sample_idx = rng.integers(0, len(pairs), size=sample_size)\n",
    "        sample = pairs[sample_idx]\n",
    "        preds_s = sample[:,0]\n",
    "        y_s = sample[:,1]\n",
    "        \n",
    "        # Seleccionamos top pozos\n",
    "        idx_top = np.argsort(preds_s)[::-1][:top_wells]\n",
    "        y_top = y_s[idx_top]\n",
    "        \n",
    "        # Calculamos beneficio\n",
    "        profit = np.sum(y_top) * PRICE_PER_UNIT - BUDGET\n",
    "        profits.append(profit)\n",
    "    \n",
    "    profits = np.array(profits)\n",
    "    mean_profit = profits.mean()\n",
    "    ci_low, ci_high = np.percentile(profits, [2.5, 97.5])\n",
    "    risk = np.mean(profits < 0)\n",
    "    \n",
    "    return mean_profit, ci_low, ci_high, risk"
   ]
  },
  {
   "cell_type": "code",
   "execution_count": 23,
   "metadata": {},
   "outputs": [
    {
     "name": "stdout",
     "output_type": "stream",
     "text": [
      "Región 0 - Beneficio promedio: $4,133,525, IC95%: [-944,616, 9,282,041], Riesgo: 4.50%\n",
      "Región 1 - Beneficio promedio: $4,576,622, IC95%: [624,837, 8,436,717], Riesgo: 1.50%\n",
      "Región 2 - Beneficio promedio: $3,952,773, IC95%: [-1,288,119, 8,816,560], Riesgo: 6.80%\n"
     ]
    }
   ],
   "source": [
    "# Región 0\n",
    "mean_0, ci_low_0, ci_high_0, risk_0 = bootstrap_beneficio(preds_0, y_valid_0)\n",
    "print(f\"Región 0 - Beneficio promedio: ${mean_0:,.0f}, IC95%: [{ci_low_0:,.0f}, {ci_high_0:,.0f}], Riesgo: {risk_0*100:.2f}%\")\n",
    "\n",
    "# Región 1\n",
    "mean_1, ci_low_1, ci_high_1, risk_1 = bootstrap_beneficio(preds_1, y_valid_1)\n",
    "print(f\"Región 1 - Beneficio promedio: ${mean_1:,.0f}, IC95%: [{ci_low_1:,.0f}, {ci_high_1:,.0f}], Riesgo: {risk_1*100:.2f}%\")\n",
    "\n",
    "# Región 2\n",
    "mean_2, ci_low_2, ci_high_2, risk_2 = bootstrap_beneficio(preds_2, y_valid_2)\n",
    "print(f\"Región 2 - Beneficio promedio: ${mean_2:,.0f}, IC95%: [{ci_low_2:,.0f}, {ci_high_2:,.0f}], Riesgo: {risk_2*100:.2f}%\")"
   ]
  },
  {
   "cell_type": "markdown",
   "metadata": {},
   "source": [
    "<div class=\"alert alert-block alert-success\">\n",
    "<b>Comentario del revisor</b> <a class=\"tocSkip\"></a>\n",
    "\n",
    "Muy buen trabajo con el calculo de las ganacias para cada una de las regiones. Posteriormente este resultados lo complementas con el análisis de riesgos\n"
   ]
  },
  {
   "cell_type": "markdown",
   "metadata": {},
   "source": [
    "Hola! Quisiera en este proyecto presentar mi conclusion como si fuera entrega de un proyecto como si fuera ya de un trabajo, esto es mas un extra para mi, si puedes darme solo una retro de como lo hice no a nivel proyecto de clase si no a nivel proyecto de trabajo, asi que lo intentare a partir de aqui:\n",
    "\n",
    "Se realizo el modelo de regresion lineal para predecir el volumen de reservas de los pozos de las 3 regiones:\n",
    "\n",
    "La Region 1 muestra un benefio promedio alto y muy bajo riesgo de perdida 1.5% lo que conviene en la opcion mas segura\n",
    "La region 0 tiene beneficio de potencial mas alto pero mayor riesgo con 4.5% de perdida debido al error del model es arriesgada\n",
    "La region 2 tiene un beneficio de promedio decente pero el riesgo es aun mas alto con 6.8% de perdida por lo que tambien es una decision arriesgada\n",
    "\n",
    "Recomiendo fuertemente la region 1 ya que esta es la region con el valor de riesgo de perdida de 1.5% aun cuando el beneficio es menor ***ademas de que el coeficiente dedeterminacion dio como resultado 1.00 lo cual es literalmente perfecto, el modelo de aprendio la relacion casi perfectamente, lo cual nos garantiza casi nada de error***.\n",
    "\n",
    "Con mas tiempo y datos adicionales podria mejorar el modelo 0 y 2 utilizando arbol de decision, RandomForest, etc.\n",
    "\n",
    "Por el momento esta es mi conclusion, quedo atento a cualquier feedback, gracias, saludos"
   ]
  }
 ],
 "metadata": {
  "kernelspec": {
   "display_name": "Python 3 (ipykernel)",
   "language": "python",
   "name": "python3"
  },
  "language_info": {
   "codemirror_mode": {
    "name": "ipython",
    "version": 3
   },
   "file_extension": ".py",
   "mimetype": "text/x-python",
   "name": "python",
   "nbconvert_exporter": "python",
   "pygments_lexer": "ipython3",
   "version": "3.9.23"
  }
 },
 "nbformat": 4,
 "nbformat_minor": 4
}
